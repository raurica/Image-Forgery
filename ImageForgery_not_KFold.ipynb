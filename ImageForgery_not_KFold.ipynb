{
  "nbformat": 4,
  "nbformat_minor": 0,
  "metadata": {
    "colab": {
      "name": "ImageForgery_not_KFold.ipynb",
      "provenance": [],
      "mount_file_id": "1yu3KlLnO3wD00kzdOu8zEfmP2Xi97s1G",
      "authorship_tag": "ABX9TyMxTIygFEuJQtiNxdhEaKff",
      "include_colab_link": true
    },
    "kernelspec": {
      "name": "python3",
      "display_name": "Python 3"
    },
    "language_info": {
      "name": "python"
    },
    "accelerator": "GPU"
  },
  "cells": [
    {
      "cell_type": "markdown",
      "metadata": {
        "id": "view-in-github",
        "colab_type": "text"
      },
      "source": [
        "<a href=\"https://colab.research.google.com/github/raurica/Image-Forgery/blob/main/ImageForgery_not_KFold.ipynb\" target=\"_parent\"><img src=\"https://colab.research.google.com/assets/colab-badge.svg\" alt=\"Open In Colab\"/></a>"
      ]
    },
    {
      "cell_type": "code",
      "execution_count": 1,
      "metadata": {
        "id": "CfQUO_RSuXiP"
      },
      "outputs": [],
      "source": [
        "import numpy as np\n",
        "import os\n",
        "from tensorflow import keras\n",
        "from sklearn.metrics import classification_report\n",
        "import seaborn as sn; sn.set(font_scale=1.4)\n",
        "from keras.models import Sequential\n",
        "from keras.layers import Conv2D, MaxPooling2D, GlobalAveragePooling2D\n",
        "from keras.layers import Dense\n",
        "from sklearn.utils import shuffle\n",
        "from sklearn.model_selection import StratifiedKFold\n",
        "from sklearn.model_selection import KFold\n",
        "from sklearn.model_selection import train_test_split\n",
        "import matplotlib.pyplot as plt\n",
        "import cv2"
      ]
    },
    {
      "cell_type": "code",
      "source": [
        "!pip install -U -q PyDrive\n",
        "from pydrive.auth import GoogleAuth\n",
        "from pydrive.drive import GoogleDrive\n",
        "from google.colab import auth\n",
        "from oauth2client.client import GoogleCredentials\n",
        "\n",
        "auth.authenticate_user()\n",
        "gauth = GoogleAuth()\n",
        "gauth.credentials = GoogleCredentials.get_application_default()\n",
        "drive = GoogleDrive(gauth)"
      ],
      "metadata": {
        "id": "bgx_gzwcudWE"
      },
      "execution_count": 2,
      "outputs": []
    },
    {
      "cell_type": "markdown",
      "source": [
        "##Loading the dataset"
      ],
      "metadata": {
        "id": "P4kCo3iqxJOT"
      }
    },
    {
      "cell_type": "code",
      "source": [
        "fileId = drive.CreateFile({'id':'1pL6W3mN931TmmaCtMZsR0z1YuVfkvH4J'})\n",
        "fileId.GetContentFile(fileId['title'])\n",
        "print('Uploaded {}, id {}'.format(fileId['title'],fileId['id']))"
      ],
      "metadata": {
        "colab": {
          "base_uri": "https://localhost:8080/"
        },
        "id": "7e1s5BjHvgPJ",
        "outputId": "4a7eeba2-73a2-416d-c539-e21e9b21f54a"
      },
      "execution_count": 29,
      "outputs": [
        {
          "output_type": "stream",
          "name": "stdout",
          "text": [
            "Uploaded MICC-F220.zip, id 1pL6W3mN931TmmaCtMZsR0z1YuVfkvH4J\n"
          ]
        }
      ]
    },
    {
      "cell_type": "code",
      "source": [
        "!unzip -q MICC-F220.zip\n",
        "print('dataset unzipped')"
      ],
      "metadata": {
        "colab": {
          "base_uri": "https://localhost:8080/"
        },
        "id": "6XGmQg7vvrkr",
        "outputId": "736aa9d1-083e-403b-e664-14f5054aa832"
      },
      "execution_count": 31,
      "outputs": [
        {
          "output_type": "stream",
          "name": "stdout",
          "text": [
            "replace MICC-F220/test_train_images/original/CRW_4809_scale.jpg? [y]es, [n]o, [A]ll, [N]one, [r]ename: A\n",
            "dataset unzipped\n"
          ]
        }
      ]
    },
    {
      "cell_type": "code",
      "source": [
        "seed=13\n",
        "np.random.seed(seed)"
      ],
      "metadata": {
        "id": "FbPYQcFNvfGn"
      },
      "execution_count": 32,
      "outputs": []
    },
    {
      "cell_type": "markdown",
      "source": [
        "##Main variables"
      ],
      "metadata": {
        "id": "yWBgSAogxUvY"
      }
    },
    {
      "cell_type": "code",
      "source": [
        "IMAGE_SIZE = (224,224)\n",
        "EPOCHS = 100\n",
        "BATCH_SIZE = 16"
      ],
      "metadata": {
        "id": "8KxtKcnYvuYE"
      },
      "execution_count": 43,
      "outputs": []
    },
    {
      "cell_type": "markdown",
      "source": [
        "##Creating labels"
      ],
      "metadata": {
        "id": "ujCVC3YLxbAY"
      }
    },
    {
      "cell_type": "code",
      "source": [
        "class_names=['original','tampered']\n",
        "class_name_label = {class_name:i for i, class_name in enumerate(class_names)}\n",
        "\n",
        "nb_classes = len(class_names)\n",
        "print(class_name_label)"
      ],
      "metadata": {
        "colab": {
          "base_uri": "https://localhost:8080/"
        },
        "id": "MDdsTEFLvxf7",
        "outputId": "f36732da-7e0b-45cc-e8d9-94514e9e632d"
      },
      "execution_count": 44,
      "outputs": [
        {
          "output_type": "stream",
          "name": "stdout",
          "text": [
            "{'original': 0, 'tampered': 1}\n"
          ]
        }
      ]
    },
    {
      "cell_type": "markdown",
      "source": [
        "##Load data"
      ],
      "metadata": {
        "id": "9ldAyQenxiQD"
      }
    },
    {
      "cell_type": "code",
      "source": [
        "def load_data():\n",
        "    DIRECTORY = r\"/content/MICC-F220\"\n",
        "    CATEGORY = [\"test_train_images\",\"validation_images\"]\n",
        "    \n",
        "    output = []\n",
        "    \n",
        "    for category in CATEGORY:\n",
        "        path = os.path.join(DIRECTORY, category)\n",
        "        images = []\n",
        "        labels = []\n",
        "        \n",
        "        print(\"Loading {}\".format(category))\n",
        "        \n",
        "        for folder in os.listdir(path):\n",
        "            label = class_name_label[folder]\n",
        "            \n",
        "            for file in os.listdir(os.path.join(path, folder)):\n",
        "                \n",
        "                img_path = os.path.join(os.path.join(path,folder),file)\n",
        "                \n",
        "                image = cv2.imread(img_path)\n",
        "                image = cv2.cvtColor(image, cv2.COLOR_BGR2RGB)\n",
        "                image = cv2.resize(image, IMAGE_SIZE)\n",
        "                \n",
        "                images.append(image)\n",
        "                labels.append(label)\n",
        "                \n",
        "        images = np.array(images, dtype=\"float32\")\n",
        "        labels = np.array(labels, dtype=\"float32\")\n",
        "        \n",
        "        #output.append((images,labels))\n",
        "    return images,labels #output"
      ],
      "metadata": {
        "id": "dLQ_jUCGv0QP"
      },
      "execution_count": 45,
      "outputs": []
    },
    {
      "cell_type": "code",
      "source": [
        "def plot_accuracy_loss(history):\n",
        "\n",
        "    fig, (ax1, ax2) = plt.subplots(2,1,figsize=(12, 6))\n",
        "    \n",
        "    plt.subplots_adjust(hspace=0.6)\n",
        "    # summarize history for accuracy\n",
        "    \n",
        "    \n",
        "    ax1.plot(history.history['accuracy'])\n",
        "    ax1.plot(history.history['val_accuracy'])\n",
        "    ax1.set_title('Model Accuracy', size=20, fontweight=\"bold\")\n",
        "    ax1.set_ylabel('Accuracy')\n",
        "    ax1.set_xlabel('Epoch')\n",
        "    ax1.legend(['Training', 'Validation'])\n",
        "   \n",
        "    # summarize history for loss\n",
        "    \n",
        "    ax2.plot(history.history['loss'])\n",
        "    ax2.plot(history.history['val_loss'])\n",
        "    ax2.set_title('Model Loss', size=20, fontweight=\"bold\")\n",
        "    ax2.set_ylabel('Loss')\n",
        "    ax2.set_xlabel('Epoch')\n",
        "    ax2.legend(['Training', 'Validation'])\n",
        "    \n",
        "    plt.show()"
      ],
      "metadata": {
        "id": "bl20pVZ1zPLY"
      },
      "execution_count": 46,
      "outputs": []
    },
    {
      "cell_type": "code",
      "source": [
        "images, labels = load_data()\n",
        "train_images, test_images, train_labels, test_labels = train_test_split(images, labels, test_size=0.2, random_state=1) \n",
        "\n",
        "\"\"\"\n",
        "(train_images, train_labels), (test_images, test_labels) = load_data()\n",
        "train_images, train_labels = shuffle(train_images, train_labels, random_state=seed)\n",
        "\"\"\""
      ],
      "metadata": {
        "colab": {
          "base_uri": "https://localhost:8080/",
          "height": 70
        },
        "id": "2SM2Rqawv25T",
        "outputId": "0739e267-8247-4705-eaff-6c9941f7e14e"
      },
      "execution_count": 47,
      "outputs": [
        {
          "output_type": "stream",
          "name": "stdout",
          "text": [
            "Loading test_train_images\n",
            "Loading validation_images\n"
          ]
        },
        {
          "output_type": "execute_result",
          "data": {
            "text/plain": [
              "'\\n(train_images, train_labels), (test_images, test_labels) = load_data()\\ntrain_images, train_labels = shuffle(train_images, train_labels, random_state=seed)\\n'"
            ],
            "application/vnd.google.colaboratory.intrinsic+json": {
              "type": "string"
            }
          },
          "metadata": {},
          "execution_count": 47
        }
      ]
    },
    {
      "cell_type": "markdown",
      "source": [
        "##Preprocessing"
      ],
      "metadata": {
        "id": "4Smsob5Yxmka"
      }
    },
    {
      "cell_type": "code",
      "source": [
        "# Normalize data\n",
        "train_images = train_images / 255\n",
        "test_images = test_images / 255"
      ],
      "metadata": {
        "id": "rN2Z6qicv5kj"
      },
      "execution_count": 48,
      "outputs": []
    },
    {
      "cell_type": "markdown",
      "source": [
        "##Model and training"
      ],
      "metadata": {
        "id": "gLg2UXbmxrCD"
      }
    },
    {
      "cell_type": "code",
      "source": [
        " \n",
        "model = Sequential()\n",
        "model.add(Conv2D(16, 1, activation='relu', input_shape=(224,224,3)))\n",
        "model.add(MaxPooling2D((2,2)))\n",
        "\n",
        "model.add(Conv2D(32, (3,3), 1, activation='relu'))\n",
        "model.add(MaxPooling2D((2,2)))\n",
        "\n",
        "model.add(Conv2D(64, (3,3),1, activation='relu'))\n",
        "model.add(MaxPooling2D((2,2)))\n",
        "\n",
        "model.add(Conv2D(128, (3,3),1, activation='relu'))\n",
        "model.add(MaxPooling2D((2,2)))\n",
        "\n",
        "model.add(Conv2D(256, (3,3),1, activation='relu'))\n",
        "model.add(MaxPooling2D((2,2)))\n",
        "\n",
        "model.add(Conv2D(512, (3,3),1, activation='relu'))\n",
        "model.add(MaxPooling2D((2,2)))\n",
        "\n",
        "model.add(GlobalAveragePooling2D())\n",
        "model.add(Dense(2,activation='softmax'))\n",
        "\n",
        "#optim = keras.optimizers.Adam(learning_rate=0.001)\n",
        "\n",
        "model.compile(optimizer=\"adam\", \n",
        "              loss='sparse_categorical_crossentropy', \n",
        "              metrics=['accuracy'])\n",
        "\n",
        "#model.summary()\n",
        "history = model.fit(train_images, train_labels, \n",
        "                    batch_size=BATCH_SIZE, \n",
        "                    epochs=EPOCHS,\n",
        "                    validation_data=(test_images,test_labels),\n",
        "                    #validation_split=0.2,\n",
        "                    shuffle=True,\n",
        "                    verbose=1\n",
        "                    )\n"
      ],
      "metadata": {
        "colab": {
          "base_uri": "https://localhost:8080/"
        },
        "id": "2ZzFyUSCv7rl",
        "outputId": "de0340e1-0f53-42ca-d27a-851d08eeb6f1"
      },
      "execution_count": 49,
      "outputs": [
        {
          "output_type": "stream",
          "name": "stdout",
          "text": [
            "Epoch 1/100\n",
            "6/6 [==============================] - 1s 69ms/step - loss: 0.7172 - accuracy: 0.5909 - val_loss: 0.6835 - val_accuracy: 0.6818\n",
            "Epoch 2/100\n",
            "6/6 [==============================] - 0s 33ms/step - loss: 0.6949 - accuracy: 0.4773 - val_loss: 0.6975 - val_accuracy: 0.3182\n",
            "Epoch 3/100\n",
            "6/6 [==============================] - 0s 31ms/step - loss: 0.6964 - accuracy: 0.5455 - val_loss: 0.7403 - val_accuracy: 0.3182\n",
            "Epoch 4/100\n",
            "6/6 [==============================] - 0s 27ms/step - loss: 0.6870 - accuracy: 0.5455 - val_loss: 0.7019 - val_accuracy: 0.3182\n",
            "Epoch 5/100\n",
            "6/6 [==============================] - 0s 25ms/step - loss: 0.6888 - accuracy: 0.5455 - val_loss: 0.7040 - val_accuracy: 0.3182\n",
            "Epoch 6/100\n",
            "6/6 [==============================] - 0s 26ms/step - loss: 0.6891 - accuracy: 0.5455 - val_loss: 0.7476 - val_accuracy: 0.3182\n",
            "Epoch 7/100\n",
            "6/6 [==============================] - 0s 25ms/step - loss: 0.6753 - accuracy: 0.5455 - val_loss: 0.7663 - val_accuracy: 0.3182\n",
            "Epoch 8/100\n",
            "6/6 [==============================] - 0s 27ms/step - loss: 0.6742 - accuracy: 0.5455 - val_loss: 0.7495 - val_accuracy: 0.3182\n",
            "Epoch 9/100\n",
            "6/6 [==============================] - 0s 25ms/step - loss: 0.6416 - accuracy: 0.6023 - val_loss: 1.0273 - val_accuracy: 0.4545\n",
            "Epoch 10/100\n",
            "6/6 [==============================] - 0s 26ms/step - loss: 0.6335 - accuracy: 0.6250 - val_loss: 0.4828 - val_accuracy: 0.8182\n",
            "Epoch 11/100\n",
            "6/6 [==============================] - 0s 26ms/step - loss: 0.5748 - accuracy: 0.6705 - val_loss: 0.6454 - val_accuracy: 0.3182\n",
            "Epoch 12/100\n",
            "6/6 [==============================] - 0s 26ms/step - loss: 0.5786 - accuracy: 0.6250 - val_loss: 0.4605 - val_accuracy: 0.8636\n",
            "Epoch 13/100\n",
            "6/6 [==============================] - 0s 25ms/step - loss: 0.5830 - accuracy: 0.7614 - val_loss: 0.3147 - val_accuracy: 0.9545\n",
            "Epoch 14/100\n",
            "6/6 [==============================] - 0s 26ms/step - loss: 0.5219 - accuracy: 0.7614 - val_loss: 0.4175 - val_accuracy: 0.8182\n",
            "Epoch 15/100\n",
            "6/6 [==============================] - 0s 26ms/step - loss: 0.5293 - accuracy: 0.7045 - val_loss: 0.4843 - val_accuracy: 0.9091\n",
            "Epoch 16/100\n",
            "6/6 [==============================] - 0s 25ms/step - loss: 0.4021 - accuracy: 0.8182 - val_loss: 0.2096 - val_accuracy: 0.9545\n",
            "Epoch 17/100\n",
            "6/6 [==============================] - 0s 27ms/step - loss: 0.3289 - accuracy: 0.8750 - val_loss: 0.1803 - val_accuracy: 0.9545\n",
            "Epoch 18/100\n",
            "6/6 [==============================] - 0s 25ms/step - loss: 0.2746 - accuracy: 0.8864 - val_loss: 0.1014 - val_accuracy: 0.9545\n",
            "Epoch 19/100\n",
            "6/6 [==============================] - 0s 24ms/step - loss: 0.2738 - accuracy: 0.8977 - val_loss: 0.1003 - val_accuracy: 1.0000\n",
            "Epoch 20/100\n",
            "6/6 [==============================] - 0s 25ms/step - loss: 0.2410 - accuracy: 0.8750 - val_loss: 0.2216 - val_accuracy: 1.0000\n",
            "Epoch 21/100\n",
            "6/6 [==============================] - 0s 35ms/step - loss: 0.2068 - accuracy: 0.9318 - val_loss: 0.0985 - val_accuracy: 1.0000\n",
            "Epoch 22/100\n",
            "6/6 [==============================] - 0s 26ms/step - loss: 0.2022 - accuracy: 0.9318 - val_loss: 0.0880 - val_accuracy: 1.0000\n",
            "Epoch 23/100\n",
            "6/6 [==============================] - 0s 25ms/step - loss: 0.1927 - accuracy: 0.9318 - val_loss: 0.0940 - val_accuracy: 1.0000\n",
            "Epoch 24/100\n",
            "6/6 [==============================] - 0s 26ms/step - loss: 0.1783 - accuracy: 0.9432 - val_loss: 0.0716 - val_accuracy: 1.0000\n",
            "Epoch 25/100\n",
            "6/6 [==============================] - 0s 25ms/step - loss: 0.1697 - accuracy: 0.9432 - val_loss: 0.0550 - val_accuracy: 1.0000\n",
            "Epoch 26/100\n",
            "6/6 [==============================] - 0s 25ms/step - loss: 0.1777 - accuracy: 0.9432 - val_loss: 0.0986 - val_accuracy: 1.0000\n",
            "Epoch 27/100\n",
            "6/6 [==============================] - 0s 27ms/step - loss: 0.1691 - accuracy: 0.9545 - val_loss: 0.0820 - val_accuracy: 1.0000\n",
            "Epoch 28/100\n",
            "6/6 [==============================] - 0s 25ms/step - loss: 0.1546 - accuracy: 0.9545 - val_loss: 0.0727 - val_accuracy: 1.0000\n",
            "Epoch 29/100\n",
            "6/6 [==============================] - 0s 26ms/step - loss: 0.1519 - accuracy: 0.9545 - val_loss: 0.0987 - val_accuracy: 1.0000\n",
            "Epoch 30/100\n",
            "6/6 [==============================] - 0s 25ms/step - loss: 0.1534 - accuracy: 0.9545 - val_loss: 0.0582 - val_accuracy: 1.0000\n",
            "Epoch 31/100\n",
            "6/6 [==============================] - 0s 26ms/step - loss: 0.1585 - accuracy: 0.9545 - val_loss: 0.0741 - val_accuracy: 1.0000\n",
            "Epoch 32/100\n",
            "6/6 [==============================] - 0s 26ms/step - loss: 0.1571 - accuracy: 0.9545 - val_loss: 0.1286 - val_accuracy: 1.0000\n",
            "Epoch 33/100\n",
            "6/6 [==============================] - 0s 26ms/step - loss: 0.1627 - accuracy: 0.9545 - val_loss: 0.0479 - val_accuracy: 1.0000\n",
            "Epoch 34/100\n",
            "6/6 [==============================] - 0s 26ms/step - loss: 0.1733 - accuracy: 0.9545 - val_loss: 0.0594 - val_accuracy: 1.0000\n",
            "Epoch 35/100\n",
            "6/6 [==============================] - 0s 25ms/step - loss: 0.1638 - accuracy: 0.9432 - val_loss: 0.1912 - val_accuracy: 1.0000\n",
            "Epoch 36/100\n",
            "6/6 [==============================] - 0s 25ms/step - loss: 0.1879 - accuracy: 0.9545 - val_loss: 0.1119 - val_accuracy: 1.0000\n",
            "Epoch 37/100\n",
            "6/6 [==============================] - 0s 25ms/step - loss: 0.1589 - accuracy: 0.9545 - val_loss: 0.0716 - val_accuracy: 1.0000\n",
            "Epoch 38/100\n",
            "6/6 [==============================] - 0s 25ms/step - loss: 0.1582 - accuracy: 0.9545 - val_loss: 0.0598 - val_accuracy: 1.0000\n",
            "Epoch 39/100\n",
            "6/6 [==============================] - 0s 26ms/step - loss: 0.1735 - accuracy: 0.9545 - val_loss: 0.0464 - val_accuracy: 1.0000\n",
            "Epoch 40/100\n",
            "6/6 [==============================] - 0s 25ms/step - loss: 0.1605 - accuracy: 0.9545 - val_loss: 0.0793 - val_accuracy: 1.0000\n",
            "Epoch 41/100\n",
            "6/6 [==============================] - 0s 26ms/step - loss: 0.1523 - accuracy: 0.9545 - val_loss: 0.0902 - val_accuracy: 1.0000\n",
            "Epoch 42/100\n",
            "6/6 [==============================] - 0s 26ms/step - loss: 0.1498 - accuracy: 0.9545 - val_loss: 0.0725 - val_accuracy: 1.0000\n",
            "Epoch 43/100\n",
            "6/6 [==============================] - 0s 26ms/step - loss: 0.1553 - accuracy: 0.9545 - val_loss: 0.0917 - val_accuracy: 1.0000\n",
            "Epoch 44/100\n",
            "6/6 [==============================] - 0s 25ms/step - loss: 0.1507 - accuracy: 0.9545 - val_loss: 0.0610 - val_accuracy: 1.0000\n",
            "Epoch 45/100\n",
            "6/6 [==============================] - 0s 27ms/step - loss: 0.1464 - accuracy: 0.9545 - val_loss: 0.0683 - val_accuracy: 1.0000\n",
            "Epoch 46/100\n",
            "6/6 [==============================] - 0s 26ms/step - loss: 0.1429 - accuracy: 0.9545 - val_loss: 0.1111 - val_accuracy: 1.0000\n",
            "Epoch 47/100\n",
            "6/6 [==============================] - 0s 26ms/step - loss: 0.1451 - accuracy: 0.9545 - val_loss: 0.0955 - val_accuracy: 1.0000\n",
            "Epoch 48/100\n",
            "6/6 [==============================] - 0s 26ms/step - loss: 0.1468 - accuracy: 0.9545 - val_loss: 0.0732 - val_accuracy: 1.0000\n",
            "Epoch 49/100\n",
            "6/6 [==============================] - 0s 26ms/step - loss: 0.1530 - accuracy: 0.9545 - val_loss: 0.0407 - val_accuracy: 1.0000\n",
            "Epoch 50/100\n",
            "6/6 [==============================] - 0s 25ms/step - loss: 0.1524 - accuracy: 0.9545 - val_loss: 0.0912 - val_accuracy: 1.0000\n",
            "Epoch 51/100\n",
            "6/6 [==============================] - 0s 25ms/step - loss: 0.1447 - accuracy: 0.9545 - val_loss: 0.1055 - val_accuracy: 1.0000\n",
            "Epoch 52/100\n",
            "6/6 [==============================] - 0s 26ms/step - loss: 0.1445 - accuracy: 0.9545 - val_loss: 0.0767 - val_accuracy: 1.0000\n",
            "Epoch 53/100\n",
            "6/6 [==============================] - 0s 26ms/step - loss: 0.1446 - accuracy: 0.9545 - val_loss: 0.0677 - val_accuracy: 1.0000\n",
            "Epoch 54/100\n",
            "6/6 [==============================] - 0s 26ms/step - loss: 0.1424 - accuracy: 0.9545 - val_loss: 0.0667 - val_accuracy: 1.0000\n",
            "Epoch 55/100\n",
            "6/6 [==============================] - 0s 26ms/step - loss: 0.1416 - accuracy: 0.9545 - val_loss: 0.0617 - val_accuracy: 1.0000\n",
            "Epoch 56/100\n",
            "6/6 [==============================] - 0s 26ms/step - loss: 0.1441 - accuracy: 0.9545 - val_loss: 0.0868 - val_accuracy: 1.0000\n",
            "Epoch 57/100\n",
            "6/6 [==============================] - 0s 27ms/step - loss: 0.1647 - accuracy: 0.9545 - val_loss: 0.1680 - val_accuracy: 1.0000\n",
            "Epoch 58/100\n",
            "6/6 [==============================] - 0s 25ms/step - loss: 0.1599 - accuracy: 0.9545 - val_loss: 0.0818 - val_accuracy: 1.0000\n",
            "Epoch 59/100\n",
            "6/6 [==============================] - 0s 27ms/step - loss: 0.1446 - accuracy: 0.9545 - val_loss: 0.0843 - val_accuracy: 1.0000\n",
            "Epoch 60/100\n",
            "6/6 [==============================] - 0s 27ms/step - loss: 0.1430 - accuracy: 0.9545 - val_loss: 0.0863 - val_accuracy: 1.0000\n",
            "Epoch 61/100\n",
            "6/6 [==============================] - 0s 27ms/step - loss: 0.1422 - accuracy: 0.9545 - val_loss: 0.0961 - val_accuracy: 1.0000\n",
            "Epoch 62/100\n",
            "6/6 [==============================] - 0s 25ms/step - loss: 0.1472 - accuracy: 0.9545 - val_loss: 0.0778 - val_accuracy: 1.0000\n",
            "Epoch 63/100\n",
            "6/6 [==============================] - 0s 25ms/step - loss: 0.1479 - accuracy: 0.9545 - val_loss: 0.1195 - val_accuracy: 1.0000\n",
            "Epoch 64/100\n",
            "6/6 [==============================] - 0s 26ms/step - loss: 0.1469 - accuracy: 0.9545 - val_loss: 0.0835 - val_accuracy: 1.0000\n",
            "Epoch 65/100\n",
            "6/6 [==============================] - 0s 26ms/step - loss: 0.1404 - accuracy: 0.9545 - val_loss: 0.0746 - val_accuracy: 1.0000\n",
            "Epoch 66/100\n",
            "6/6 [==============================] - 0s 27ms/step - loss: 0.1432 - accuracy: 0.9545 - val_loss: 0.0721 - val_accuracy: 1.0000\n",
            "Epoch 67/100\n",
            "6/6 [==============================] - 0s 27ms/step - loss: 0.1419 - accuracy: 0.9545 - val_loss: 0.0544 - val_accuracy: 1.0000\n",
            "Epoch 68/100\n",
            "6/6 [==============================] - 0s 26ms/step - loss: 0.1474 - accuracy: 0.9545 - val_loss: 0.0705 - val_accuracy: 1.0000\n",
            "Epoch 69/100\n",
            "6/6 [==============================] - 0s 25ms/step - loss: 0.1406 - accuracy: 0.9545 - val_loss: 0.0696 - val_accuracy: 1.0000\n",
            "Epoch 70/100\n",
            "6/6 [==============================] - 0s 25ms/step - loss: 0.1439 - accuracy: 0.9545 - val_loss: 0.0652 - val_accuracy: 1.0000\n",
            "Epoch 71/100\n",
            "6/6 [==============================] - 0s 25ms/step - loss: 0.1446 - accuracy: 0.9545 - val_loss: 0.0616 - val_accuracy: 1.0000\n",
            "Epoch 72/100\n",
            "6/6 [==============================] - 0s 26ms/step - loss: 0.1441 - accuracy: 0.9545 - val_loss: 0.1147 - val_accuracy: 1.0000\n",
            "Epoch 73/100\n",
            "6/6 [==============================] - 0s 26ms/step - loss: 0.1450 - accuracy: 0.9545 - val_loss: 0.0934 - val_accuracy: 1.0000\n",
            "Epoch 74/100\n",
            "6/6 [==============================] - 0s 26ms/step - loss: 0.1419 - accuracy: 0.9545 - val_loss: 0.0680 - val_accuracy: 1.0000\n",
            "Epoch 75/100\n",
            "6/6 [==============================] - 0s 25ms/step - loss: 0.1407 - accuracy: 0.9545 - val_loss: 0.0714 - val_accuracy: 1.0000\n",
            "Epoch 76/100\n",
            "6/6 [==============================] - 0s 25ms/step - loss: 0.1428 - accuracy: 0.9545 - val_loss: 0.0679 - val_accuracy: 1.0000\n",
            "Epoch 77/100\n",
            "6/6 [==============================] - 0s 25ms/step - loss: 0.1427 - accuracy: 0.9545 - val_loss: 0.0903 - val_accuracy: 1.0000\n",
            "Epoch 78/100\n",
            "6/6 [==============================] - 0s 25ms/step - loss: 0.1441 - accuracy: 0.9545 - val_loss: 0.1062 - val_accuracy: 1.0000\n",
            "Epoch 79/100\n",
            "6/6 [==============================] - 0s 26ms/step - loss: 0.1469 - accuracy: 0.9545 - val_loss: 0.0637 - val_accuracy: 1.0000\n",
            "Epoch 80/100\n",
            "6/6 [==============================] - 0s 26ms/step - loss: 0.1450 - accuracy: 0.9545 - val_loss: 0.0650 - val_accuracy: 1.0000\n",
            "Epoch 81/100\n",
            "6/6 [==============================] - 0s 25ms/step - loss: 0.1413 - accuracy: 0.9545 - val_loss: 0.0742 - val_accuracy: 1.0000\n",
            "Epoch 82/100\n",
            "6/6 [==============================] - 0s 25ms/step - loss: 0.1399 - accuracy: 0.9545 - val_loss: 0.0771 - val_accuracy: 1.0000\n",
            "Epoch 83/100\n",
            "6/6 [==============================] - 0s 26ms/step - loss: 0.1394 - accuracy: 0.9545 - val_loss: 0.0727 - val_accuracy: 1.0000\n",
            "Epoch 84/100\n",
            "6/6 [==============================] - 0s 26ms/step - loss: 0.1414 - accuracy: 0.9545 - val_loss: 0.0676 - val_accuracy: 1.0000\n",
            "Epoch 85/100\n",
            "6/6 [==============================] - 0s 26ms/step - loss: 0.1445 - accuracy: 0.9545 - val_loss: 0.0928 - val_accuracy: 1.0000\n",
            "Epoch 86/100\n",
            "6/6 [==============================] - 0s 26ms/step - loss: 0.1425 - accuracy: 0.9545 - val_loss: 0.0844 - val_accuracy: 1.0000\n",
            "Epoch 87/100\n",
            "6/6 [==============================] - 0s 25ms/step - loss: 0.1401 - accuracy: 0.9545 - val_loss: 0.0942 - val_accuracy: 1.0000\n",
            "Epoch 88/100\n",
            "6/6 [==============================] - 0s 26ms/step - loss: 0.1424 - accuracy: 0.9545 - val_loss: 0.0871 - val_accuracy: 1.0000\n",
            "Epoch 89/100\n",
            "6/6 [==============================] - 0s 26ms/step - loss: 0.1555 - accuracy: 0.9545 - val_loss: 0.0495 - val_accuracy: 1.0000\n",
            "Epoch 90/100\n",
            "6/6 [==============================] - 0s 26ms/step - loss: 0.1558 - accuracy: 0.9545 - val_loss: 0.1353 - val_accuracy: 1.0000\n",
            "Epoch 91/100\n",
            "6/6 [==============================] - 0s 25ms/step - loss: 0.1518 - accuracy: 0.9545 - val_loss: 0.1209 - val_accuracy: 1.0000\n",
            "Epoch 92/100\n",
            "6/6 [==============================] - 0s 27ms/step - loss: 0.1490 - accuracy: 0.9545 - val_loss: 0.0553 - val_accuracy: 1.0000\n",
            "Epoch 93/100\n",
            "6/6 [==============================] - 0s 26ms/step - loss: 0.1496 - accuracy: 0.9545 - val_loss: 0.0676 - val_accuracy: 1.0000\n",
            "Epoch 94/100\n",
            "6/6 [==============================] - 0s 25ms/step - loss: 0.1662 - accuracy: 0.9545 - val_loss: 0.0880 - val_accuracy: 1.0000\n",
            "Epoch 95/100\n",
            "6/6 [==============================] - 0s 27ms/step - loss: 0.1417 - accuracy: 0.9545 - val_loss: 0.0616 - val_accuracy: 1.0000\n",
            "Epoch 96/100\n",
            "6/6 [==============================] - 0s 25ms/step - loss: 0.1469 - accuracy: 0.9545 - val_loss: 0.0598 - val_accuracy: 1.0000\n",
            "Epoch 97/100\n",
            "6/6 [==============================] - 0s 25ms/step - loss: 0.1460 - accuracy: 0.9545 - val_loss: 0.0595 - val_accuracy: 1.0000\n",
            "Epoch 98/100\n",
            "6/6 [==============================] - 0s 26ms/step - loss: 0.1302 - accuracy: 0.9545 - val_loss: 0.1193 - val_accuracy: 1.0000\n",
            "Epoch 99/100\n",
            "6/6 [==============================] - 0s 25ms/step - loss: 0.1419 - accuracy: 0.9545 - val_loss: 0.1312 - val_accuracy: 1.0000\n",
            "Epoch 100/100\n",
            "6/6 [==============================] - 0s 25ms/step - loss: 0.1529 - accuracy: 0.9545 - val_loss: 0.1183 - val_accuracy: 1.0000\n"
          ]
        }
      ]
    },
    {
      "cell_type": "code",
      "source": [
        "test_loss = model.evaluate(test_images, test_labels)"
      ],
      "metadata": {
        "colab": {
          "base_uri": "https://localhost:8080/"
        },
        "id": "21DyB9QdzXHq",
        "outputId": "27c01cf8-2b44-4a9a-916b-d1c7c9415ec2"
      },
      "execution_count": 50,
      "outputs": [
        {
          "output_type": "stream",
          "name": "stdout",
          "text": [
            "1/1 [==============================] - 0s 34ms/step - loss: 0.1183 - accuracy: 1.0000\n"
          ]
        }
      ]
    },
    {
      "cell_type": "code",
      "source": [
        "predictions = model.predict(test_images)\n",
        "pred_labels = np.argmax(predictions, axis=1)\n",
        "\n",
        "print(classification_report(test_labels, pred_labels))"
      ],
      "metadata": {
        "colab": {
          "base_uri": "https://localhost:8080/"
        },
        "id": "ONv2qCCZzZCa",
        "outputId": "a7715531-ba43-42de-942d-8c97ba4d01bd"
      },
      "execution_count": 51,
      "outputs": [
        {
          "output_type": "stream",
          "name": "stdout",
          "text": [
            "              precision    recall  f1-score   support\n",
            "\n",
            "         0.0       1.00      1.00      1.00         7\n",
            "         1.0       1.00      1.00      1.00        15\n",
            "\n",
            "    accuracy                           1.00        22\n",
            "   macro avg       1.00      1.00      1.00        22\n",
            "weighted avg       1.00      1.00      1.00        22\n",
            "\n"
          ]
        }
      ]
    },
    {
      "cell_type": "code",
      "source": [
        "plot_accuracy_loss(history)"
      ],
      "metadata": {
        "colab": {
          "base_uri": "https://localhost:8080/",
          "height": 425
        },
        "id": "CZMnNCYezbNt",
        "outputId": "10df8130-19a8-4854-9d03-44be33b421be"
      },
      "execution_count": 52,
      "outputs": [
        {
          "output_type": "display_data",
          "data": {
            "text/plain": [
              "<Figure size 864x432 with 2 Axes>"
            ],
            "image/png": "[encoded data removed]"
          },
          "metadata": {
            "needs_background": "light"
          }
        }
      ]
    },
    {
      "cell_type": "code",
      "source": [
        "model.save('forgery_model_not_kfold_50ep.h5') "
      ],
      "metadata": {
        "id": "7cjDYARF0YAT"
      },
      "execution_count": 28,
      "outputs": []
    },
    {
      "cell_type": "code",
      "source": [
        ""
      ],
      "metadata": {
        "id": "hORWUxXR0KZi"
      },
      "execution_count": null,
      "outputs": []
    }
  ]
}