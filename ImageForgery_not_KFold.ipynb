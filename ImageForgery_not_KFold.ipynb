{
  "nbformat": 4,
  "nbformat_minor": 0,
  "metadata": {
    "colab": {
      "name": "ImageForgery_not_KFold.ipynb",
      "provenance": [],
      "mount_file_id": "1yu3KlLnO3wD00kzdOu8zEfmP2Xi97s1G",
      "authorship_tag": "ABX9TyPsbkmflqc8B/aAe+uM7L1J",
      "include_colab_link": true
    },
    "kernelspec": {
      "name": "python3",
      "display_name": "Python 3"
    },
    "language_info": {
      "name": "python"
    },
    "accelerator": "GPU"
  },
  "cells": [
    {
      "cell_type": "markdown",
      "metadata": {
        "id": "view-in-github",
        "colab_type": "text"
      },
      "source": [
        "<a href=\"https://colab.research.google.com/github/raurica/Image-Forgery/blob/main/ImageForgery_not_KFold.ipynb\" target=\"_parent\"><img src=\"https://colab.research.google.com/assets/colab-badge.svg\" alt=\"Open In Colab\"/></a>"
      ]
    },
    {
      "cell_type": "code",
      "execution_count": 1,
      "metadata": {
        "id": "CfQUO_RSuXiP"
      },
      "outputs": [],
      "source": [
        "import numpy as np\n",
        "import os\n",
        "from tensorflow import keras\n",
        "from sklearn.metrics import classification_report\n",
        "import seaborn as sn; sn.set(font_scale=1.4)\n",
        "from keras.models import Sequential\n",
        "from keras.layers import Conv2D, MaxPooling2D, GlobalAveragePooling2D\n",
        "from keras.layers import Dense\n",
        "from sklearn.utils import shuffle\n",
        "from sklearn.model_selection import StratifiedKFold\n",
        "from sklearn.model_selection import KFold\n",
        "from sklearn.model_selection import train_test_split\n",
        "import matplotlib.pyplot as plt\n",
        "import cv2"
      ]
    },
    {
      "cell_type": "code",
      "source": [
        "!pip install -U -q PyDrive\n",
        "from pydrive.auth import GoogleAuth\n",
        "from pydrive.drive import GoogleDrive\n",
        "from google.colab import auth\n",
        "from oauth2client.client import GoogleCredentials\n",
        "\n",
        "auth.authenticate_user()\n",
        "gauth = GoogleAuth()\n",
        "gauth.credentials = GoogleCredentials.get_application_default()\n",
        "drive = GoogleDrive(gauth)"
      ],
      "metadata": {
        "id": "bgx_gzwcudWE"
      },
      "execution_count": 2,
      "outputs": []
    },
    {
      "cell_type": "markdown",
      "source": [
        "##Loading the dataset"
      ],
      "metadata": {
        "id": "P4kCo3iqxJOT"
      }
    },
    {
      "cell_type": "code",
      "source": [
        "fileId = drive.CreateFile({'id':'1pL6W3mN931TmmaCtMZsR0z1YuVfkvH4J'})\n",
        "fileId.GetContentFile(fileId['title'])\n",
        "print('Uploaded {}, id {}'.format(fileId['title'],fileId['id']))"
      ],
      "metadata": {
        "colab": {
          "base_uri": "https://localhost:8080/"
        },
        "id": "7e1s5BjHvgPJ",
        "outputId": "4a7eeba2-73a2-416d-c539-e21e9b21f54a"
      },
      "execution_count": 29,
      "outputs": [
        {
          "output_type": "stream",
          "name": "stdout",
          "text": [
            "Uploaded MICC-F220.zip, id 1pL6W3mN931TmmaCtMZsR0z1YuVfkvH4J\n"
          ]
        }
      ]
    },
    {
      "cell_type": "code",
      "source": [
        "!unzip -q MICC-F220.zip\n",
        "print('dataset unzipped')"
      ],
      "metadata": {
        "colab": {
          "base_uri": "https://localhost:8080/"
        },
        "id": "6XGmQg7vvrkr",
        "outputId": "736aa9d1-083e-403b-e664-14f5054aa832"
      },
      "execution_count": 31,
      "outputs": [
        {
          "output_type": "stream",
          "name": "stdout",
          "text": [
            "replace MICC-F220/test_train_images/original/CRW_4809_scale.jpg? [y]es, [n]o, [A]ll, [N]one, [r]ename: A\n",
            "dataset unzipped\n"
          ]
        }
      ]
    },
    {
      "cell_type": "code",
      "source": [
        "seed=13\n",
        "np.random.seed(seed)"
      ],
      "metadata": {
        "id": "FbPYQcFNvfGn"
      },
      "execution_count": 32,
      "outputs": []
    },
    {
      "cell_type": "markdown",
      "source": [
        "##Main variables"
      ],
      "metadata": {
        "id": "yWBgSAogxUvY"
      }
    },
    {
      "cell_type": "code",
      "source": [
        "IMAGE_SIZE = (224,224)\n",
        "EPOCHS = 50\n",
        "BATCH_SIZE = 16"
      ],
      "metadata": {
        "id": "8KxtKcnYvuYE"
      },
      "execution_count": 33,
      "outputs": []
    },
    {
      "cell_type": "markdown",
      "source": [
        "##Creating labels"
      ],
      "metadata": {
        "id": "ujCVC3YLxbAY"
      }
    },
    {
      "cell_type": "code",
      "source": [
        "class_names=['original','tampered']\n",
        "class_name_label = {class_name:i for i, class_name in enumerate(class_names)}\n",
        "\n",
        "nb_classes = len(class_names)\n",
        "print(class_name_label)"
      ],
      "metadata": {
        "colab": {
          "base_uri": "https://localhost:8080/"
        },
        "id": "MDdsTEFLvxf7",
        "outputId": "2440775c-c58c-486f-9a52-ba560f1bead9"
      },
      "execution_count": 34,
      "outputs": [
        {
          "output_type": "stream",
          "name": "stdout",
          "text": [
            "{'original': 0, 'tampered': 1}\n"
          ]
        }
      ]
    },
    {
      "cell_type": "markdown",
      "source": [
        "##Load data"
      ],
      "metadata": {
        "id": "9ldAyQenxiQD"
      }
    },
    {
      "cell_type": "code",
      "source": [
        "def load_data():\n",
        "    DIRECTORY = r\"/content/MICC-F220\"\n",
        "    CATEGORY = [\"test_train_images\",\"validation_images\"]\n",
        "    \n",
        "    output = []\n",
        "    \n",
        "    for category in CATEGORY:\n",
        "        path = os.path.join(DIRECTORY, category)\n",
        "        images = []\n",
        "        labels = []\n",
        "        \n",
        "        print(\"Loading {}\".format(category))\n",
        "        \n",
        "        for folder in os.listdir(path):\n",
        "            label = class_name_label[folder]\n",
        "            \n",
        "            for file in os.listdir(os.path.join(path, folder)):\n",
        "                \n",
        "                img_path = os.path.join(os.path.join(path,folder),file)\n",
        "                \n",
        "                image = cv2.imread(img_path)\n",
        "                image = cv2.cvtColor(image, cv2.COLOR_BGR2RGB)\n",
        "                image = cv2.resize(image, IMAGE_SIZE)\n",
        "                \n",
        "                images.append(image)\n",
        "                labels.append(label)\n",
        "                \n",
        "        images = np.array(images, dtype=\"float32\")\n",
        "        labels = np.array(labels, dtype=\"float32\")\n",
        "        \n",
        "        #output.append((images,labels))\n",
        "    return images,labels #output"
      ],
      "metadata": {
        "id": "dLQ_jUCGv0QP"
      },
      "execution_count": 35,
      "outputs": []
    },
    {
      "cell_type": "code",
      "source": [
        "def plot_accuracy_loss(history):\n",
        "\n",
        "    fig, (ax1, ax2) = plt.subplots(2,1,figsize=(12, 6))\n",
        "    \n",
        "    plt.subplots_adjust(hspace=0.6)\n",
        "    # summarize history for accuracy\n",
        "    \n",
        "    \n",
        "    ax1.plot(history.history['accuracy'])\n",
        "    ax1.plot(history.history['val_accuracy'])\n",
        "    ax1.set_title('Model Accuracy', size=20, fontweight=\"bold\")\n",
        "    ax1.set_ylabel('Accuracy')\n",
        "    ax1.set_xlabel('Epoch')\n",
        "    ax1.legend(['Training', 'Validation'])\n",
        "   \n",
        "    # summarize history for loss\n",
        "    \n",
        "    ax2.plot(history.history['loss'])\n",
        "    ax2.plot(history.history['val_loss'])\n",
        "    ax2.set_title('Model Loss', size=20, fontweight=\"bold\")\n",
        "    ax2.set_ylabel('Loss')\n",
        "    ax2.set_xlabel('Epoch')\n",
        "    ax2.legend(['Training', 'Validation'])\n",
        "    \n",
        "    plt.show()"
      ],
      "metadata": {
        "id": "bl20pVZ1zPLY"
      },
      "execution_count": 36,
      "outputs": []
    },
    {
      "cell_type": "code",
      "source": [
        "images, labels = load_data()\n",
        "train_images, test_images, train_labels, test_labels = train_test_split(images, labels, test_size=0.2, random_state=1) \n",
        "\n",
        "\"\"\"\n",
        "(train_images, train_labels), (test_images, test_labels) = load_data()\n",
        "train_images, train_labels = shuffle(train_images, train_labels, random_state=seed)\n",
        "\"\"\""
      ],
      "metadata": {
        "colab": {
          "base_uri": "https://localhost:8080/",
          "height": 70
        },
        "id": "2SM2Rqawv25T",
        "outputId": "738b1414-646d-491b-cc2e-42b959a5e7cb"
      },
      "execution_count": 37,
      "outputs": [
        {
          "output_type": "stream",
          "name": "stdout",
          "text": [
            "Loading test_train_images\n",
            "Loading validation_images\n"
          ]
        },
        {
          "output_type": "execute_result",
          "data": {
            "text/plain": [
              "'\\n(train_images, train_labels), (test_images, test_labels) = load_data()\\ntrain_images, train_labels = shuffle(train_images, train_labels, random_state=seed)\\n'"
            ],
            "application/vnd.google.colaboratory.intrinsic+json": {
              "type": "string"
            }
          },
          "metadata": {},
          "execution_count": 37
        }
      ]
    },
    {
      "cell_type": "markdown",
      "source": [
        "##Preprocessing"
      ],
      "metadata": {
        "id": "4Smsob5Yxmka"
      }
    },
    {
      "cell_type": "code",
      "source": [
        "# Normalize data\n",
        "train_images = train_images / 255\n",
        "test_images = test_images / 255"
      ],
      "metadata": {
        "id": "rN2Z6qicv5kj"
      },
      "execution_count": 38,
      "outputs": []
    },
    {
      "cell_type": "markdown",
      "source": [
        "##Model and training"
      ],
      "metadata": {
        "id": "gLg2UXbmxrCD"
      }
    },
    {
      "cell_type": "code",
      "source": [
        " \n",
        "model = Sequential()\n",
        "model.add(Conv2D(16, 1, activation='relu', input_shape=(224,224,3)))\n",
        "model.add(MaxPooling2D((2,2)))\n",
        "\n",
        "model.add(Conv2D(32, (3,3), 1, activation='relu'))\n",
        "model.add(MaxPooling2D((2,2)))\n",
        "\n",
        "model.add(Conv2D(64, (3,3),1, activation='relu'))\n",
        "model.add(MaxPooling2D((2,2)))\n",
        "\n",
        "model.add(Conv2D(128, (3,3),1, activation='relu'))\n",
        "model.add(MaxPooling2D((2,2)))\n",
        "\n",
        "model.add(Conv2D(256, (3,3),1, activation='relu'))\n",
        "model.add(MaxPooling2D((2,2)))\n",
        "\n",
        "model.add(Conv2D(512, (3,3),1, activation='relu'))\n",
        "model.add(MaxPooling2D((2,2)))\n",
        "\n",
        "model.add(GlobalAveragePooling2D())\n",
        "model.add(Dense(2,activation='softmax'))\n",
        "\n",
        "#optim = keras.optimizers.Adam(learning_rate=0.001)\n",
        "\n",
        "model.compile(optimizer=\"adam\", \n",
        "              loss='sparse_categorical_crossentropy', \n",
        "              metrics=['accuracy'])\n",
        "\n",
        "#model.summary()\n",
        "history = model.fit(train_images, train_labels, \n",
        "                    batch_size=BATCH_SIZE, \n",
        "                    epochs=EPOCHS,\n",
        "                    validation_data=(test_images,test_labels),\n",
        "                    #validation_split=0.2,\n",
        "                    shuffle=True,\n",
        "                    verbose=1\n",
        "                    )\n"
      ],
      "metadata": {
        "colab": {
          "base_uri": "https://localhost:8080/"
        },
        "id": "2ZzFyUSCv7rl",
        "outputId": "05ea35e5-ebed-4e55-93cf-142c07a0b49a"
      },
      "execution_count": 39,
      "outputs": [
        {
          "output_type": "stream",
          "name": "stdout",
          "text": [
            "Epoch 1/50\n",
            "6/6 [==============================] - 1s 64ms/step - loss: 0.7091 - accuracy: 0.5682 - val_loss: 0.6812 - val_accuracy: 0.6818\n",
            "Epoch 2/50\n",
            "6/6 [==============================] - 0s 28ms/step - loss: 0.6944 - accuracy: 0.5000 - val_loss: 0.7400 - val_accuracy: 0.3182\n",
            "Epoch 3/50\n",
            "6/6 [==============================] - 0s 26ms/step - loss: 0.7010 - accuracy: 0.5455 - val_loss: 0.7059 - val_accuracy: 0.3182\n",
            "Epoch 4/50\n",
            "6/6 [==============================] - 0s 25ms/step - loss: 0.6864 - accuracy: 0.5455 - val_loss: 0.7325 - val_accuracy: 0.3182\n",
            "Epoch 5/50\n",
            "6/6 [==============================] - 0s 25ms/step - loss: 0.6900 - accuracy: 0.5455 - val_loss: 0.7519 - val_accuracy: 0.3182\n",
            "Epoch 6/50\n",
            "6/6 [==============================] - 0s 24ms/step - loss: 0.6895 - accuracy: 0.5455 - val_loss: 0.7008 - val_accuracy: 0.3182\n",
            "Epoch 7/50\n",
            "6/6 [==============================] - 0s 25ms/step - loss: 0.6901 - accuracy: 0.5455 - val_loss: 0.7098 - val_accuracy: 0.3182\n",
            "Epoch 8/50\n",
            "6/6 [==============================] - 0s 25ms/step - loss: 0.6777 - accuracy: 0.5455 - val_loss: 0.7251 - val_accuracy: 0.3182\n",
            "Epoch 9/50\n",
            "6/6 [==============================] - 0s 25ms/step - loss: 0.6429 - accuracy: 0.5455 - val_loss: 0.8772 - val_accuracy: 0.3182\n",
            "Epoch 10/50\n",
            "6/6 [==============================] - 0s 26ms/step - loss: 0.6092 - accuracy: 0.6591 - val_loss: 0.6340 - val_accuracy: 0.8182\n",
            "Epoch 11/50\n",
            "6/6 [==============================] - 0s 25ms/step - loss: 0.5608 - accuracy: 0.7045 - val_loss: 0.4830 - val_accuracy: 0.6364\n",
            "Epoch 12/50\n",
            "6/6 [==============================] - 0s 27ms/step - loss: 0.4315 - accuracy: 0.8068 - val_loss: 0.3934 - val_accuracy: 0.8636\n",
            "Epoch 13/50\n",
            "6/6 [==============================] - 0s 25ms/step - loss: 0.3699 - accuracy: 0.8295 - val_loss: 1.9836 - val_accuracy: 0.3182\n",
            "Epoch 14/50\n",
            "6/6 [==============================] - 0s 25ms/step - loss: 0.5323 - accuracy: 0.7386 - val_loss: 0.4944 - val_accuracy: 0.8182\n",
            "Epoch 15/50\n",
            "6/6 [==============================] - 0s 26ms/step - loss: 0.4053 - accuracy: 0.8295 - val_loss: 0.4215 - val_accuracy: 0.9091\n",
            "Epoch 16/50\n",
            "6/6 [==============================] - 0s 26ms/step - loss: 0.3128 - accuracy: 0.8750 - val_loss: 0.3207 - val_accuracy: 0.9091\n",
            "Epoch 17/50\n",
            "6/6 [==============================] - 0s 25ms/step - loss: 0.2512 - accuracy: 0.9318 - val_loss: 1.0181 - val_accuracy: 0.4545\n",
            "Epoch 18/50\n",
            "6/6 [==============================] - 0s 25ms/step - loss: 0.2989 - accuracy: 0.8864 - val_loss: 0.3218 - val_accuracy: 0.9091\n",
            "Epoch 19/50\n",
            "6/6 [==============================] - 0s 26ms/step - loss: 0.2788 - accuracy: 0.9432 - val_loss: 0.3314 - val_accuracy: 0.9091\n",
            "Epoch 20/50\n",
            "6/6 [==============================] - 0s 25ms/step - loss: 0.2464 - accuracy: 0.9432 - val_loss: 0.2575 - val_accuracy: 0.9091\n",
            "Epoch 21/50\n",
            "6/6 [==============================] - 0s 25ms/step - loss: 0.2133 - accuracy: 0.9432 - val_loss: 0.2413 - val_accuracy: 0.9545\n",
            "Epoch 22/50\n",
            "6/6 [==============================] - 0s 26ms/step - loss: 0.2005 - accuracy: 0.9432 - val_loss: 0.3017 - val_accuracy: 0.9545\n",
            "Epoch 23/50\n",
            "6/6 [==============================] - 0s 26ms/step - loss: 0.2045 - accuracy: 0.9432 - val_loss: 0.2151 - val_accuracy: 0.9545\n",
            "Epoch 24/50\n",
            "6/6 [==============================] - 0s 25ms/step - loss: 0.1924 - accuracy: 0.9318 - val_loss: 0.1971 - val_accuracy: 0.9545\n",
            "Epoch 25/50\n",
            "6/6 [==============================] - 0s 27ms/step - loss: 0.1801 - accuracy: 0.9545 - val_loss: 0.2556 - val_accuracy: 0.9091\n",
            "Epoch 26/50\n",
            "6/6 [==============================] - 0s 25ms/step - loss: 0.1864 - accuracy: 0.9432 - val_loss: 0.2478 - val_accuracy: 0.9545\n",
            "Epoch 27/50\n",
            "6/6 [==============================] - 0s 25ms/step - loss: 0.1820 - accuracy: 0.9432 - val_loss: 0.2392 - val_accuracy: 0.9091\n",
            "Epoch 28/50\n",
            "6/6 [==============================] - 0s 25ms/step - loss: 0.1960 - accuracy: 0.9545 - val_loss: 0.1874 - val_accuracy: 0.9091\n",
            "Epoch 29/50\n",
            "6/6 [==============================] - 0s 25ms/step - loss: 0.1777 - accuracy: 0.9545 - val_loss: 0.1935 - val_accuracy: 0.9545\n",
            "Epoch 30/50\n",
            "6/6 [==============================] - 0s 26ms/step - loss: 0.1600 - accuracy: 0.9545 - val_loss: 0.2036 - val_accuracy: 0.9545\n",
            "Epoch 31/50\n",
            "6/6 [==============================] - 0s 24ms/step - loss: 0.1776 - accuracy: 0.9545 - val_loss: 0.1938 - val_accuracy: 0.9091\n",
            "Epoch 32/50\n",
            "6/6 [==============================] - 0s 25ms/step - loss: 0.1855 - accuracy: 0.9545 - val_loss: 0.1953 - val_accuracy: 0.9091\n",
            "Epoch 33/50\n",
            "6/6 [==============================] - 0s 25ms/step - loss: 0.1549 - accuracy: 0.9545 - val_loss: 0.1965 - val_accuracy: 0.9545\n",
            "Epoch 34/50\n",
            "6/6 [==============================] - 0s 25ms/step - loss: 0.1557 - accuracy: 0.9545 - val_loss: 0.1853 - val_accuracy: 0.9545\n",
            "Epoch 35/50\n",
            "6/6 [==============================] - 0s 25ms/step - loss: 0.1515 - accuracy: 0.9545 - val_loss: 0.1794 - val_accuracy: 0.9545\n",
            "Epoch 36/50\n",
            "6/6 [==============================] - 0s 27ms/step - loss: 0.1526 - accuracy: 0.9545 - val_loss: 0.1707 - val_accuracy: 0.9545\n",
            "Epoch 37/50\n",
            "6/6 [==============================] - 0s 25ms/step - loss: 0.1473 - accuracy: 0.9545 - val_loss: 0.1786 - val_accuracy: 0.9545\n",
            "Epoch 38/50\n",
            "6/6 [==============================] - 0s 26ms/step - loss: 0.1469 - accuracy: 0.9545 - val_loss: 0.2019 - val_accuracy: 0.9545\n",
            "Epoch 39/50\n",
            "6/6 [==============================] - 0s 26ms/step - loss: 0.1585 - accuracy: 0.9545 - val_loss: 0.2158 - val_accuracy: 0.9545\n",
            "Epoch 40/50\n",
            "6/6 [==============================] - 0s 26ms/step - loss: 0.1470 - accuracy: 0.9545 - val_loss: 0.1789 - val_accuracy: 0.9545\n",
            "Epoch 41/50\n",
            "6/6 [==============================] - 0s 26ms/step - loss: 0.1444 - accuracy: 0.9545 - val_loss: 0.2081 - val_accuracy: 0.9545\n",
            "Epoch 42/50\n",
            "6/6 [==============================] - 0s 25ms/step - loss: 0.1843 - accuracy: 0.9545 - val_loss: 0.1726 - val_accuracy: 0.9091\n",
            "Epoch 43/50\n",
            "6/6 [==============================] - 0s 25ms/step - loss: 0.1539 - accuracy: 0.9545 - val_loss: 0.1430 - val_accuracy: 0.9545\n",
            "Epoch 44/50\n",
            "6/6 [==============================] - 0s 25ms/step - loss: 0.1558 - accuracy: 0.9545 - val_loss: 0.1926 - val_accuracy: 0.9091\n",
            "Epoch 45/50\n",
            "6/6 [==============================] - 0s 25ms/step - loss: 0.1420 - accuracy: 0.9545 - val_loss: 0.2000 - val_accuracy: 0.9545\n",
            "Epoch 46/50\n",
            "6/6 [==============================] - 0s 25ms/step - loss: 0.1515 - accuracy: 0.9545 - val_loss: 0.2139 - val_accuracy: 0.9545\n",
            "Epoch 47/50\n",
            "6/6 [==============================] - 0s 25ms/step - loss: 0.1447 - accuracy: 0.9545 - val_loss: 0.2024 - val_accuracy: 0.9545\n",
            "Epoch 48/50\n",
            "6/6 [==============================] - 0s 25ms/step - loss: 0.1633 - accuracy: 0.9545 - val_loss: 0.1863 - val_accuracy: 0.9091\n",
            "Epoch 49/50\n",
            "6/6 [==============================] - 0s 26ms/step - loss: 0.1777 - accuracy: 0.9545 - val_loss: 0.2172 - val_accuracy: 1.0000\n",
            "Epoch 50/50\n",
            "6/6 [==============================] - 0s 26ms/step - loss: 0.1661 - accuracy: 0.9545 - val_loss: 0.1470 - val_accuracy: 0.9091\n"
          ]
        }
      ]
    },
    {
      "cell_type": "code",
      "source": [
        "test_loss = model.evaluate(test_images, test_labels)"
      ],
      "metadata": {
        "colab": {
          "base_uri": "https://localhost:8080/"
        },
        "id": "21DyB9QdzXHq",
        "outputId": "97c899ba-b917-44ad-cc96-bdf5bb064e19"
      },
      "execution_count": 40,
      "outputs": [
        {
          "output_type": "stream",
          "name": "stdout",
          "text": [
            "1/1 [==============================] - 0s 34ms/step - loss: 0.1470 - accuracy: 0.9091\n"
          ]
        }
      ]
    },
    {
      "cell_type": "code",
      "source": [
        "predictions = model.predict(test_images)\n",
        "pred_labels = np.argmax(predictions, axis=1)\n",
        "\n",
        "print(classification_report(test_labels, pred_labels))"
      ],
      "metadata": {
        "colab": {
          "base_uri": "https://localhost:8080/"
        },
        "id": "ONv2qCCZzZCa",
        "outputId": "ffb70fad-02a3-4fac-a601-b7f23be63253"
      },
      "execution_count": 41,
      "outputs": [
        {
          "output_type": "stream",
          "name": "stdout",
          "text": [
            "              precision    recall  f1-score   support\n",
            "\n",
            "         0.0       1.00      0.71      0.83         7\n",
            "         1.0       0.88      1.00      0.94        15\n",
            "\n",
            "    accuracy                           0.91        22\n",
            "   macro avg       0.94      0.86      0.89        22\n",
            "weighted avg       0.92      0.91      0.90        22\n",
            "\n"
          ]
        }
      ]
    },
    {
      "cell_type": "code",
      "source": [
        "plot_accuracy_loss(history)"
      ],
      "metadata": {
        "colab": {
          "base_uri": "https://localhost:8080/",
          "height": 425
        },
        "id": "CZMnNCYezbNt",
        "outputId": "e0559a9b-5473-4bfb-89d0-a7f826122b61"
      },
      "execution_count": 42,
      "outputs": [
        {
          "output_type": "display_data",
          "data": {
            "text/plain": [
              "<Figure size 864x432 with 2 Axes>"
            ],
            "image/png": "[encoded data removed]"
          },
          "metadata": {
            "needs_background": "light"
          }
        }
      ]
    },
    {
      "cell_type": "code",
      "source": [
        "model.save('forgery_model_not_kfold_50ep.h5') "
      ],
      "metadata": {
        "id": "7cjDYARF0YAT"
      },
      "execution_count": 28,
      "outputs": []
    },
    {
      "cell_type": "code",
      "source": [
        ""
      ],
      "metadata": {
        "id": "hORWUxXR0KZi"
      },
      "execution_count": null,
      "outputs": []
    }
  ]
}